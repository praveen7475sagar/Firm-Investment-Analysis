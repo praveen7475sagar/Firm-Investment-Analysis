{
 "cells": [
  {
   "cell_type": "markdown",
   "metadata": {},
   "source": [
    "# FIRM INVESTMENTS"
   ]
  },
  {
   "cell_type": "code",
   "execution_count": 37,
   "metadata": {},
   "outputs": [],
   "source": [
    "import numpy as np\n",
    "import pandas as pd"
   ]
  },
  {
   "cell_type": "code",
   "execution_count": 38,
   "metadata": {},
   "outputs": [],
   "source": [
    "df=pd.read_excel('C:\\\\Users\\\\ARUN PRAVEEN\\\\Desktop\\\\Investors.xlsx')"
   ]
  },
  {
   "cell_type": "code",
   "execution_count": 39,
   "metadata": {},
   "outputs": [
    {
     "data": {
      "text/html": [
       "<div>\n",
       "<style scoped>\n",
       "    .dataframe tbody tr th:only-of-type {\n",
       "        vertical-align: middle;\n",
       "    }\n",
       "\n",
       "    .dataframe tbody tr th {\n",
       "        vertical-align: top;\n",
       "    }\n",
       "\n",
       "    .dataframe thead th {\n",
       "        text-align: right;\n",
       "    }\n",
       "</style>\n",
       "<table border=\"1\" class=\"dataframe\">\n",
       "  <thead>\n",
       "    <tr style=\"text-align: right;\">\n",
       "      <th></th>\n",
       "      <th>Firm</th>\n",
       "      <th>Website</th>\n",
       "      <th>Description</th>\n",
       "      <th>Contact</th>\n",
       "      <th>Phone Number</th>\n",
       "      <th>Title</th>\n",
       "      <th>Email</th>\n",
       "      <th>Total Investments</th>\n",
       "      <th>Active Investments</th>\n",
       "      <th>Dry Powder</th>\n",
       "      <th>Notes</th>\n",
       "      <th>Notes 2</th>\n",
       "      <th>Preferred Sectors</th>\n",
       "      <th>Preferred Investment Size</th>\n",
       "      <th>Preferred Transaction Sizes</th>\n",
       "      <th>Preferences</th>\n",
       "      <th>Date of Last Fund Closed</th>\n",
       "      <th>AUM</th>\n",
       "      <th>Type</th>\n",
       "      <th>HQ</th>\n",
       "    </tr>\n",
       "  </thead>\n",
       "  <tbody>\n",
       "    <tr>\n",
       "      <th>0</th>\n",
       "      <td>Techstars</td>\n",
       "      <td>www.techstars.com</td>\n",
       "      <td>Techstars is a mentorship-driven seed stage in...</td>\n",
       "      <td>David Cohen</td>\n",
       "      <td>+1 (408) 524-1400</td>\n",
       "      <td>Co-Founder, Co-Chief Executive Officer &amp; Board...</td>\n",
       "      <td>david.cohen@techstars.com</td>\n",
       "      <td>502.0</td>\n",
       "      <td>132.0</td>\n",
       "      <td>120.07</td>\n",
       "      <td>Actively Seeking New Investments</td>\n",
       "      <td>Prefers minority stake, Will syndicate</td>\n",
       "      <td>Beverages, Computer Hardware, Education and Tr...</td>\n",
       "      <td>Accelerator/Incubator, Convertible Debt, Early...</td>\n",
       "      <td>0.10 - 0.20</td>\n",
       "      <td>NaN</td>\n",
       "      <td>11/17/2016</td>\n",
       "      <td>300</td>\n",
       "      <td>Accelerator/Incubator</td>\n",
       "      <td>Boulder, CO</td>\n",
       "    </tr>\n",
       "    <tr>\n",
       "      <th>1</th>\n",
       "      <td>Y Combinator</td>\n",
       "      <td>www.ycombinator.com</td>\n",
       "      <td>Y Combinator is an accelerator that provides s...</td>\n",
       "      <td>Trevor Blackwell</td>\n",
       "      <td>NaN</td>\n",
       "      <td>Co-Founder &amp; Partner</td>\n",
       "      <td>trevor@ycombinator.com</td>\n",
       "      <td>535.0</td>\n",
       "      <td>250.0</td>\n",
       "      <td>0.96</td>\n",
       "      <td>Actively Seeking New Investments</td>\n",
       "      <td>Prefers minority stake, Will syndicate</td>\n",
       "      <td>Software</td>\n",
       "      <td>Accelerator/Incubator, Early Stage VC, Later S...</td>\n",
       "      <td>0.12</td>\n",
       "      <td>NaN</td>\n",
       "      <td>10/16/2015</td>\n",
       "      <td>772.8</td>\n",
       "      <td>Accelerator/Incubator</td>\n",
       "      <td>Mountain View, CA</td>\n",
       "    </tr>\n",
       "    <tr>\n",
       "      <th>2</th>\n",
       "      <td>Plug and Play Tech Center</td>\n",
       "      <td>www.plugandplaytechcenter.com</td>\n",
       "      <td>Plug and Play is a global accelerator that spe...</td>\n",
       "      <td>Marc Steiner</td>\n",
       "      <td>+1 (650) 614-4800</td>\n",
       "      <td>General Counsel</td>\n",
       "      <td>marc@plugandplaytechcenter.com</td>\n",
       "      <td>411.0</td>\n",
       "      <td>73.0</td>\n",
       "      <td>0</td>\n",
       "      <td>Actively Seeking New Investments</td>\n",
       "      <td>NaN</td>\n",
       "      <td>Software</td>\n",
       "      <td>NaN</td>\n",
       "      <td>0.03 - 0.50</td>\n",
       "      <td>NaN</td>\n",
       "      <td>NaN</td>\n",
       "      <td>NaN</td>\n",
       "      <td>Accelerator/Incubator</td>\n",
       "      <td>Sunnyvale, CA</td>\n",
       "    </tr>\n",
       "    <tr>\n",
       "      <th>3</th>\n",
       "      <td>Microsoft Accelerator</td>\n",
       "      <td>www.microsoftaccelerator.com</td>\n",
       "      <td>Microsoft Accelerator is an accelerator that p...</td>\n",
       "      <td>Amir Pinchas</td>\n",
       "      <td>NaN</td>\n",
       "      <td>Principal, Head of Operations and Portfolio &amp; ...</td>\n",
       "      <td>amir.pinchas@microsoftventures.com</td>\n",
       "      <td>391.0</td>\n",
       "      <td>58.0</td>\n",
       "      <td>NaN</td>\n",
       "      <td>Will Consider New Projects</td>\n",
       "      <td>Prefers minority stake, Will syndicate</td>\n",
       "      <td>Software</td>\n",
       "      <td>Accelerator/Incubator, Early Stage VC, Later S...</td>\n",
       "      <td>0.05 - 0.30</td>\n",
       "      <td>NaN</td>\n",
       "      <td>NaN</td>\n",
       "      <td>NaN</td>\n",
       "      <td>Accelerator/Incubator</td>\n",
       "      <td>Seattle, WA</td>\n",
       "    </tr>\n",
       "    <tr>\n",
       "      <th>4</th>\n",
       "      <td>Accel</td>\n",
       "      <td>www.accel.com</td>\n",
       "      <td>Accel is a Palo Alto, California based venture...</td>\n",
       "      <td>Anne Rockhold</td>\n",
       "      <td>+1 (301) 272-2300</td>\n",
       "      <td>Chief Financial Officer</td>\n",
       "      <td>arockhold@accel.com</td>\n",
       "      <td>200.0</td>\n",
       "      <td>186.0</td>\n",
       "      <td>4,806.77</td>\n",
       "      <td>Actively Seeking New Investments</td>\n",
       "      <td>NaN</td>\n",
       "      <td>Commercial Products, Commercial Services, Comm...</td>\n",
       "      <td>NaN</td>\n",
       "      <td>1.00 - 30.00</td>\n",
       "      <td>NaN</td>\n",
       "      <td>11/30/2016</td>\n",
       "      <td>10,806.40</td>\n",
       "      <td>Venture Capital</td>\n",
       "      <td>Palo Alto, CA</td>\n",
       "    </tr>\n",
       "  </tbody>\n",
       "</table>\n",
       "</div>"
      ],
      "text/plain": [
       "                        Firm                        Website  \\\n",
       "0                  Techstars              www.techstars.com   \n",
       "1               Y Combinator            www.ycombinator.com   \n",
       "2  Plug and Play Tech Center  www.plugandplaytechcenter.com   \n",
       "3      Microsoft Accelerator   www.microsoftaccelerator.com   \n",
       "4                      Accel                  www.accel.com   \n",
       "\n",
       "                                         Description           Contact  \\\n",
       "0  Techstars is a mentorship-driven seed stage in...       David Cohen   \n",
       "1  Y Combinator is an accelerator that provides s...  Trevor Blackwell   \n",
       "2  Plug and Play is a global accelerator that spe...      Marc Steiner   \n",
       "3  Microsoft Accelerator is an accelerator that p...      Amir Pinchas   \n",
       "4  Accel is a Palo Alto, California based venture...     Anne Rockhold   \n",
       "\n",
       "        Phone Number                                              Title  \\\n",
       "0  +1 (408) 524-1400  Co-Founder, Co-Chief Executive Officer & Board...   \n",
       "1                NaN                               Co-Founder & Partner   \n",
       "2  +1 (650) 614-4800                                    General Counsel   \n",
       "3                NaN  Principal, Head of Operations and Portfolio & ...   \n",
       "4  +1 (301) 272-2300                            Chief Financial Officer   \n",
       "\n",
       "                                Email  Total Investments  Active Investments  \\\n",
       "0           david.cohen@techstars.com              502.0               132.0   \n",
       "1              trevor@ycombinator.com              535.0               250.0   \n",
       "2      marc@plugandplaytechcenter.com              411.0                73.0   \n",
       "3  amir.pinchas@microsoftventures.com              391.0                58.0   \n",
       "4                 arockhold@accel.com              200.0               186.0   \n",
       "\n",
       "  Dry Powder                             Notes  \\\n",
       "0     120.07  Actively Seeking New Investments   \n",
       "1       0.96  Actively Seeking New Investments   \n",
       "2          0  Actively Seeking New Investments   \n",
       "3        NaN        Will Consider New Projects   \n",
       "4   4,806.77  Actively Seeking New Investments   \n",
       "\n",
       "                                  Notes 2  \\\n",
       "0  Prefers minority stake, Will syndicate   \n",
       "1  Prefers minority stake, Will syndicate   \n",
       "2                                     NaN   \n",
       "3  Prefers minority stake, Will syndicate   \n",
       "4                                     NaN   \n",
       "\n",
       "                                   Preferred Sectors  \\\n",
       "0  Beverages, Computer Hardware, Education and Tr...   \n",
       "1                                           Software   \n",
       "2                                           Software   \n",
       "3                                           Software   \n",
       "4  Commercial Products, Commercial Services, Comm...   \n",
       "\n",
       "                           Preferred Investment Size  \\\n",
       "0  Accelerator/Incubator, Convertible Debt, Early...   \n",
       "1  Accelerator/Incubator, Early Stage VC, Later S...   \n",
       "2                                                NaN   \n",
       "3  Accelerator/Incubator, Early Stage VC, Later S...   \n",
       "4                                                NaN   \n",
       "\n",
       "  Preferred Transaction Sizes Preferences Date of Last Fund Closed        AUM  \\\n",
       "0                 0.10 - 0.20         NaN               11/17/2016        300   \n",
       "1                        0.12         NaN               10/16/2015      772.8   \n",
       "2                 0.03 - 0.50         NaN                      NaN        NaN   \n",
       "3                 0.05 - 0.30         NaN                      NaN        NaN   \n",
       "4                1.00 - 30.00         NaN               11/30/2016  10,806.40   \n",
       "\n",
       "                    Type                 HQ  \n",
       "0  Accelerator/Incubator        Boulder, CO  \n",
       "1  Accelerator/Incubator  Mountain View, CA  \n",
       "2  Accelerator/Incubator      Sunnyvale, CA  \n",
       "3  Accelerator/Incubator        Seattle, WA  \n",
       "4        Venture Capital      Palo Alto, CA  "
      ]
     },
     "execution_count": 39,
     "metadata": {},
     "output_type": "execute_result"
    }
   ],
   "source": [
    "df.head()"
   ]
  },
  {
   "cell_type": "code",
   "execution_count": 40,
   "metadata": {},
   "outputs": [
    {
     "data": {
      "text/plain": [
       "(9275, 20)"
      ]
     },
     "execution_count": 40,
     "metadata": {},
     "output_type": "execute_result"
    }
   ],
   "source": [
    "df.shape"
   ]
  },
  {
   "cell_type": "code",
   "execution_count": 41,
   "metadata": {},
   "outputs": [
    {
     "name": "stdout",
     "output_type": "stream",
     "text": [
      "<class 'pandas.core.frame.DataFrame'>\n",
      "RangeIndex: 9275 entries, 0 to 9274\n",
      "Data columns (total 20 columns):\n",
      " #   Column                       Non-Null Count  Dtype  \n",
      "---  ------                       --------------  -----  \n",
      " 0   Firm                         9275 non-null   object \n",
      " 1   Website                      4112 non-null   object \n",
      " 2   Description                  9059 non-null   object \n",
      " 3   Contact                      8020 non-null   object \n",
      " 4   Phone Number                 5670 non-null   object \n",
      " 5   Title                        8020 non-null   object \n",
      " 6   Email                        5915 non-null   object \n",
      " 7   Total Investments            8540 non-null   float64\n",
      " 8   Active Investments           4460 non-null   float64\n",
      " 9   Dry Powder                   1581 non-null   object \n",
      " 10  Notes                        7218 non-null   object \n",
      " 11  Notes 2                      4977 non-null   object \n",
      " 12  Preferred Sectors            8944 non-null   object \n",
      " 13  Preferred Investment Size    3494 non-null   object \n",
      " 14  Preferred Transaction Sizes  1395 non-null   object \n",
      " 15  Preferences                  1155 non-null   object \n",
      " 16  Date of Last Fund Closed     1193 non-null   object \n",
      " 17  AUM                          1394 non-null   object \n",
      " 18  Type                         9275 non-null   object \n",
      " 19  HQ                           9244 non-null   object \n",
      "dtypes: float64(2), object(18)\n",
      "memory usage: 797.1+ KB\n"
     ]
    }
   ],
   "source": [
    "df.info()"
   ]
  },
  {
   "cell_type": "code",
   "execution_count": 42,
   "metadata": {},
   "outputs": [
    {
     "data": {
      "text/plain": [
       "Firm                              0\n",
       "Website                        5163\n",
       "Description                     216\n",
       "Contact                        1255\n",
       "Phone Number                   3605\n",
       "Title                          1255\n",
       "Email                          3360\n",
       "Total Investments               735\n",
       "Active Investments             4815\n",
       "Dry Powder                     7694\n",
       "Notes                          2057\n",
       "Notes 2                        4298\n",
       "Preferred Sectors               331\n",
       "Preferred Investment Size      5781\n",
       "Preferred Transaction Sizes    7880\n",
       "Preferences                    8120\n",
       "Date of Last Fund Closed       8082\n",
       "AUM                            7881\n",
       "Type                              0\n",
       "HQ                               31\n",
       "dtype: int64"
      ]
     },
     "execution_count": 42,
     "metadata": {},
     "output_type": "execute_result"
    }
   ],
   "source": [
    "df.isna().sum()"
   ]
  },
  {
   "cell_type": "code",
   "execution_count": 43,
   "metadata": {},
   "outputs": [],
   "source": [
    "df_cols=['Website','Contact','Phone Number','Email','Notes','Notes 2','Preferred Investment Size','Preferred Transaction Sizes','Preferences','Date of Last Fund Closed']"
   ]
  },
  {
   "cell_type": "code",
   "execution_count": 44,
   "metadata": {},
   "outputs": [],
   "source": [
    "df.drop(columns=df_cols,inplace=True)"
   ]
  },
  {
   "cell_type": "code",
   "execution_count": 45,
   "metadata": {},
   "outputs": [
    {
     "data": {
      "text/html": [
       "<div>\n",
       "<style scoped>\n",
       "    .dataframe tbody tr th:only-of-type {\n",
       "        vertical-align: middle;\n",
       "    }\n",
       "\n",
       "    .dataframe tbody tr th {\n",
       "        vertical-align: top;\n",
       "    }\n",
       "\n",
       "    .dataframe thead th {\n",
       "        text-align: right;\n",
       "    }\n",
       "</style>\n",
       "<table border=\"1\" class=\"dataframe\">\n",
       "  <thead>\n",
       "    <tr style=\"text-align: right;\">\n",
       "      <th></th>\n",
       "      <th>Firm</th>\n",
       "      <th>Description</th>\n",
       "      <th>Title</th>\n",
       "      <th>Total Investments</th>\n",
       "      <th>Active Investments</th>\n",
       "      <th>Dry Powder</th>\n",
       "      <th>Preferred Sectors</th>\n",
       "      <th>AUM</th>\n",
       "      <th>Type</th>\n",
       "      <th>HQ</th>\n",
       "    </tr>\n",
       "  </thead>\n",
       "  <tbody>\n",
       "    <tr>\n",
       "      <th>0</th>\n",
       "      <td>Techstars</td>\n",
       "      <td>Techstars is a mentorship-driven seed stage in...</td>\n",
       "      <td>Co-Founder, Co-Chief Executive Officer &amp; Board...</td>\n",
       "      <td>502.0</td>\n",
       "      <td>132.0</td>\n",
       "      <td>120.07</td>\n",
       "      <td>Beverages, Computer Hardware, Education and Tr...</td>\n",
       "      <td>300</td>\n",
       "      <td>Accelerator/Incubator</td>\n",
       "      <td>Boulder, CO</td>\n",
       "    </tr>\n",
       "    <tr>\n",
       "      <th>1</th>\n",
       "      <td>Y Combinator</td>\n",
       "      <td>Y Combinator is an accelerator that provides s...</td>\n",
       "      <td>Co-Founder &amp; Partner</td>\n",
       "      <td>535.0</td>\n",
       "      <td>250.0</td>\n",
       "      <td>0.96</td>\n",
       "      <td>Software</td>\n",
       "      <td>772.8</td>\n",
       "      <td>Accelerator/Incubator</td>\n",
       "      <td>Mountain View, CA</td>\n",
       "    </tr>\n",
       "    <tr>\n",
       "      <th>2</th>\n",
       "      <td>Plug and Play Tech Center</td>\n",
       "      <td>Plug and Play is a global accelerator that spe...</td>\n",
       "      <td>General Counsel</td>\n",
       "      <td>411.0</td>\n",
       "      <td>73.0</td>\n",
       "      <td>0</td>\n",
       "      <td>Software</td>\n",
       "      <td>NaN</td>\n",
       "      <td>Accelerator/Incubator</td>\n",
       "      <td>Sunnyvale, CA</td>\n",
       "    </tr>\n",
       "    <tr>\n",
       "      <th>3</th>\n",
       "      <td>Microsoft Accelerator</td>\n",
       "      <td>Microsoft Accelerator is an accelerator that p...</td>\n",
       "      <td>Principal, Head of Operations and Portfolio &amp; ...</td>\n",
       "      <td>391.0</td>\n",
       "      <td>58.0</td>\n",
       "      <td>NaN</td>\n",
       "      <td>Software</td>\n",
       "      <td>NaN</td>\n",
       "      <td>Accelerator/Incubator</td>\n",
       "      <td>Seattle, WA</td>\n",
       "    </tr>\n",
       "    <tr>\n",
       "      <th>4</th>\n",
       "      <td>Accel</td>\n",
       "      <td>Accel is a Palo Alto, California based venture...</td>\n",
       "      <td>Chief Financial Officer</td>\n",
       "      <td>200.0</td>\n",
       "      <td>186.0</td>\n",
       "      <td>4,806.77</td>\n",
       "      <td>Commercial Products, Commercial Services, Comm...</td>\n",
       "      <td>10,806.40</td>\n",
       "      <td>Venture Capital</td>\n",
       "      <td>Palo Alto, CA</td>\n",
       "    </tr>\n",
       "  </tbody>\n",
       "</table>\n",
       "</div>"
      ],
      "text/plain": [
       "                        Firm  \\\n",
       "0                  Techstars   \n",
       "1               Y Combinator   \n",
       "2  Plug and Play Tech Center   \n",
       "3      Microsoft Accelerator   \n",
       "4                      Accel   \n",
       "\n",
       "                                         Description  \\\n",
       "0  Techstars is a mentorship-driven seed stage in...   \n",
       "1  Y Combinator is an accelerator that provides s...   \n",
       "2  Plug and Play is a global accelerator that spe...   \n",
       "3  Microsoft Accelerator is an accelerator that p...   \n",
       "4  Accel is a Palo Alto, California based venture...   \n",
       "\n",
       "                                               Title  Total Investments  \\\n",
       "0  Co-Founder, Co-Chief Executive Officer & Board...              502.0   \n",
       "1                               Co-Founder & Partner              535.0   \n",
       "2                                    General Counsel              411.0   \n",
       "3  Principal, Head of Operations and Portfolio & ...              391.0   \n",
       "4                            Chief Financial Officer              200.0   \n",
       "\n",
       "   Active Investments Dry Powder  \\\n",
       "0               132.0     120.07   \n",
       "1               250.0       0.96   \n",
       "2                73.0          0   \n",
       "3                58.0        NaN   \n",
       "4               186.0   4,806.77   \n",
       "\n",
       "                                   Preferred Sectors        AUM  \\\n",
       "0  Beverages, Computer Hardware, Education and Tr...        300   \n",
       "1                                           Software      772.8   \n",
       "2                                           Software        NaN   \n",
       "3                                           Software        NaN   \n",
       "4  Commercial Products, Commercial Services, Comm...  10,806.40   \n",
       "\n",
       "                    Type                 HQ  \n",
       "0  Accelerator/Incubator        Boulder, CO  \n",
       "1  Accelerator/Incubator  Mountain View, CA  \n",
       "2  Accelerator/Incubator      Sunnyvale, CA  \n",
       "3  Accelerator/Incubator        Seattle, WA  \n",
       "4        Venture Capital      Palo Alto, CA  "
      ]
     },
     "execution_count": 45,
     "metadata": {},
     "output_type": "execute_result"
    }
   ],
   "source": [
    "df.head()"
   ]
  },
  {
   "cell_type": "code",
   "execution_count": 47,
   "metadata": {},
   "outputs": [
    {
     "data": {
      "text/plain": [
       "Firm                     0\n",
       "Description            216\n",
       "Title                 1255\n",
       "Total Investments      735\n",
       "Active Investments    4815\n",
       "Dry Powder            7694\n",
       "Preferred Sectors      331\n",
       "AUM                   7881\n",
       "Type                     0\n",
       "HQ                      31\n",
       "dtype: int64"
      ]
     },
     "execution_count": 47,
     "metadata": {},
     "output_type": "execute_result"
    }
   ],
   "source": [
    "df.isnull().sum()"
   ]
  },
  {
   "cell_type": "code",
   "execution_count": 60,
   "metadata": {},
   "outputs": [],
   "source": [
    "df['Title'].fillna(df['Title'].value_counts().index[0],inplace=True)"
   ]
  },
  {
   "cell_type": "code",
   "execution_count": 61,
   "metadata": {},
   "outputs": [
    {
     "data": {
      "text/plain": [
       "False    9275\n",
       "Name: Title, dtype: int64"
      ]
     },
     "execution_count": 61,
     "metadata": {},
     "output_type": "execute_result"
    }
   ],
   "source": [
    "df['Title'].isna().value_counts()"
   ]
  },
  {
   "cell_type": "code",
   "execution_count": 70,
   "metadata": {},
   "outputs": [],
   "source": [
    "df['Description'].fillna(\"Not available\",inplace=True)"
   ]
  },
  {
   "cell_type": "code",
   "execution_count": 73,
   "metadata": {},
   "outputs": [],
   "source": [
    "df.fillna({'Total Investments':0,'Active Investments':0,'Dry Powder':0,'AUM':0},inplace=True)"
   ]
  },
  {
   "cell_type": "code",
   "execution_count": 74,
   "metadata": {},
   "outputs": [],
   "source": [
    "df['Preferred Sectors'].fillna(df['Preferred Sectors'].value_counts().index[0],inplace=True)"
   ]
  },
  {
   "cell_type": "code",
   "execution_count": 75,
   "metadata": {},
   "outputs": [
    {
     "data": {
      "text/plain": [
       "Firm                   0\n",
       "Description            0\n",
       "Title                  0\n",
       "Total Investments      0\n",
       "Active Investments     0\n",
       "Dry Powder             0\n",
       "Preferred Sectors      0\n",
       "AUM                    0\n",
       "Type                   0\n",
       "HQ                    31\n",
       "dtype: int64"
      ]
     },
     "execution_count": 75,
     "metadata": {},
     "output_type": "execute_result"
    }
   ],
   "source": [
    "df.isnull().sum()"
   ]
  },
  {
   "cell_type": "code",
   "execution_count": 78,
   "metadata": {},
   "outputs": [],
   "source": [
    "df['HQ'].fillna(df['HQ'].value_counts().index[0],inplace=True)"
   ]
  },
  {
   "cell_type": "code",
   "execution_count": 82,
   "metadata": {},
   "outputs": [
    {
     "data": {
      "text/plain": [
       "Firm                  0\n",
       "Description           0\n",
       "Title                 0\n",
       "Total Investments     0\n",
       "Active Investments    0\n",
       "Dry Powder            0\n",
       "Preferred Sectors     0\n",
       "AUM                   0\n",
       "Type                  0\n",
       "HQ                    0\n",
       "dtype: int64"
      ]
     },
     "execution_count": 82,
     "metadata": {},
     "output_type": "execute_result"
    }
   ],
   "source": [
    "df.isnull().sum()"
   ]
  },
  {
   "cell_type": "code",
   "execution_count": 84,
   "metadata": {},
   "outputs": [],
   "source": [
    "Updated=df.to_excel('C:\\\\Users\\\\ARUN PRAVEEN\\\\Desktop\\\\Investors updated.xlsx')"
   ]
  },
  {
   "cell_type": "code",
   "execution_count": null,
   "metadata": {},
   "outputs": [],
   "source": []
  }
 ],
 "metadata": {
  "kernelspec": {
   "display_name": "Python 3",
   "language": "python",
   "name": "python3"
  },
  "language_info": {
   "codemirror_mode": {
    "name": "ipython",
    "version": 3
   },
   "file_extension": ".py",
   "mimetype": "text/x-python",
   "name": "python",
   "nbconvert_exporter": "python",
   "pygments_lexer": "ipython3",
   "version": "3.7.6"
  }
 },
 "nbformat": 4,
 "nbformat_minor": 4
}
